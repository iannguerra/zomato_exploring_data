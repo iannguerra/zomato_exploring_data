{
 "cells": [
  {
   "cell_type": "markdown",
   "metadata": {},
   "source": [
    "# Tipos de culinária"
   ]
  },
  {
   "cell_type": "code",
   "execution_count": 1,
   "metadata": {},
   "outputs": [],
   "source": [
    "import pandas as pd\n",
    "import numpy as np\n",
    "import inflection"
   ]
  },
  {
   "cell_type": "code",
   "execution_count": 2,
   "metadata": {},
   "outputs": [],
   "source": [
    "df = pd.read_csv(\"zomato.csv\")"
   ]
  },
  {
   "cell_type": "code",
   "execution_count": 3,
   "metadata": {},
   "outputs": [
    {
     "data": {
      "text/html": [
       "<div>\n",
       "<style scoped>\n",
       "    .dataframe tbody tr th:only-of-type {\n",
       "        vertical-align: middle;\n",
       "    }\n",
       "\n",
       "    .dataframe tbody tr th {\n",
       "        vertical-align: top;\n",
       "    }\n",
       "\n",
       "    .dataframe thead th {\n",
       "        text-align: right;\n",
       "    }\n",
       "</style>\n",
       "<table border=\"1\" class=\"dataframe\">\n",
       "  <thead>\n",
       "    <tr style=\"text-align: right;\">\n",
       "      <th></th>\n",
       "      <th>Restaurant ID</th>\n",
       "      <th>Restaurant Name</th>\n",
       "      <th>Country Code</th>\n",
       "      <th>City</th>\n",
       "      <th>Address</th>\n",
       "      <th>Locality</th>\n",
       "      <th>Locality Verbose</th>\n",
       "      <th>Longitude</th>\n",
       "      <th>Latitude</th>\n",
       "      <th>Cuisines</th>\n",
       "      <th>...</th>\n",
       "      <th>Currency</th>\n",
       "      <th>Has Table booking</th>\n",
       "      <th>Has Online delivery</th>\n",
       "      <th>Is delivering now</th>\n",
       "      <th>Switch to order menu</th>\n",
       "      <th>Price range</th>\n",
       "      <th>Aggregate rating</th>\n",
       "      <th>Rating color</th>\n",
       "      <th>Rating text</th>\n",
       "      <th>Votes</th>\n",
       "    </tr>\n",
       "  </thead>\n",
       "  <tbody>\n",
       "    <tr>\n",
       "      <th>0</th>\n",
       "      <td>6310675</td>\n",
       "      <td>Mama Lou's Italian Kitchen</td>\n",
       "      <td>162</td>\n",
       "      <td>Las Piñas City</td>\n",
       "      <td>Block 1, Lot 36, Tropical Avenue Corner Tropic...</td>\n",
       "      <td>BF International</td>\n",
       "      <td>BF International, Las Piñas City</td>\n",
       "      <td>121.009787</td>\n",
       "      <td>14.447615</td>\n",
       "      <td>Italian</td>\n",
       "      <td>...</td>\n",
       "      <td>Botswana Pula(P)</td>\n",
       "      <td>1</td>\n",
       "      <td>0</td>\n",
       "      <td>0</td>\n",
       "      <td>0</td>\n",
       "      <td>3</td>\n",
       "      <td>4.6</td>\n",
       "      <td>3F7E00</td>\n",
       "      <td>Excellent</td>\n",
       "      <td>619</td>\n",
       "    </tr>\n",
       "    <tr>\n",
       "      <th>1</th>\n",
       "      <td>6310675</td>\n",
       "      <td>Mama Lou's Italian Kitchen</td>\n",
       "      <td>162</td>\n",
       "      <td>Las Piñas City</td>\n",
       "      <td>Block 1, Lot 36, Tropical Avenue Corner Tropic...</td>\n",
       "      <td>BF International</td>\n",
       "      <td>BF International, Las Piñas City</td>\n",
       "      <td>121.009787</td>\n",
       "      <td>14.447615</td>\n",
       "      <td>Italian</td>\n",
       "      <td>...</td>\n",
       "      <td>Botswana Pula(P)</td>\n",
       "      <td>1</td>\n",
       "      <td>0</td>\n",
       "      <td>0</td>\n",
       "      <td>0</td>\n",
       "      <td>3</td>\n",
       "      <td>4.6</td>\n",
       "      <td>3F7E00</td>\n",
       "      <td>Excellent</td>\n",
       "      <td>619</td>\n",
       "    </tr>\n",
       "    <tr>\n",
       "      <th>2</th>\n",
       "      <td>6314542</td>\n",
       "      <td>Blackbird</td>\n",
       "      <td>162</td>\n",
       "      <td>Makati City</td>\n",
       "      <td>Nielson Tower, Ayala Triangle Gardens, Salcedo...</td>\n",
       "      <td>Ayala Triangle Gardens, Salcedo Village, Makat...</td>\n",
       "      <td>Ayala Triangle Gardens, Salcedo Village, Makat...</td>\n",
       "      <td>121.024562</td>\n",
       "      <td>14.556042</td>\n",
       "      <td>European, Asian</td>\n",
       "      <td>...</td>\n",
       "      <td>Botswana Pula(P)</td>\n",
       "      <td>0</td>\n",
       "      <td>0</td>\n",
       "      <td>0</td>\n",
       "      <td>0</td>\n",
       "      <td>4</td>\n",
       "      <td>4.7</td>\n",
       "      <td>3F7E00</td>\n",
       "      <td>Excellent</td>\n",
       "      <td>469</td>\n",
       "    </tr>\n",
       "    <tr>\n",
       "      <th>3</th>\n",
       "      <td>6301293</td>\n",
       "      <td>Banapple</td>\n",
       "      <td>162</td>\n",
       "      <td>Makati City</td>\n",
       "      <td>Ayala Triangle Gardens, Salcedo Village, Makat...</td>\n",
       "      <td>Ayala Triangle Gardens, Salcedo Village, Makat...</td>\n",
       "      <td>Ayala Triangle Gardens, Salcedo Village, Makat...</td>\n",
       "      <td>121.023171</td>\n",
       "      <td>14.556196</td>\n",
       "      <td>Filipino, American, Italian, Bakery</td>\n",
       "      <td>...</td>\n",
       "      <td>Botswana Pula(P)</td>\n",
       "      <td>0</td>\n",
       "      <td>0</td>\n",
       "      <td>0</td>\n",
       "      <td>0</td>\n",
       "      <td>3</td>\n",
       "      <td>4.4</td>\n",
       "      <td>5BA829</td>\n",
       "      <td>Very Good</td>\n",
       "      <td>867</td>\n",
       "    </tr>\n",
       "    <tr>\n",
       "      <th>4</th>\n",
       "      <td>6315689</td>\n",
       "      <td>Bad Bird</td>\n",
       "      <td>162</td>\n",
       "      <td>Makati City</td>\n",
       "      <td>Hole In The Wall, Floor 4, Century City Mall, ...</td>\n",
       "      <td>Century City Mall, Poblacion, Makati City</td>\n",
       "      <td>Century City Mall, Poblacion, Makati City, Mak...</td>\n",
       "      <td>121.027708</td>\n",
       "      <td>14.565899</td>\n",
       "      <td>American</td>\n",
       "      <td>...</td>\n",
       "      <td>Botswana Pula(P)</td>\n",
       "      <td>0</td>\n",
       "      <td>0</td>\n",
       "      <td>0</td>\n",
       "      <td>0</td>\n",
       "      <td>3</td>\n",
       "      <td>4.4</td>\n",
       "      <td>5BA829</td>\n",
       "      <td>Very Good</td>\n",
       "      <td>858</td>\n",
       "    </tr>\n",
       "  </tbody>\n",
       "</table>\n",
       "<p>5 rows × 21 columns</p>\n",
       "</div>"
      ],
      "text/plain": [
       "   Restaurant ID             Restaurant Name  Country Code            City  \\\n",
       "0        6310675  Mama Lou's Italian Kitchen           162  Las Piñas City   \n",
       "1        6310675  Mama Lou's Italian Kitchen           162  Las Piñas City   \n",
       "2        6314542                   Blackbird           162     Makati City   \n",
       "3        6301293                    Banapple           162     Makati City   \n",
       "4        6315689                    Bad Bird           162     Makati City   \n",
       "\n",
       "                                             Address  \\\n",
       "0  Block 1, Lot 36, Tropical Avenue Corner Tropic...   \n",
       "1  Block 1, Lot 36, Tropical Avenue Corner Tropic...   \n",
       "2  Nielson Tower, Ayala Triangle Gardens, Salcedo...   \n",
       "3  Ayala Triangle Gardens, Salcedo Village, Makat...   \n",
       "4  Hole In The Wall, Floor 4, Century City Mall, ...   \n",
       "\n",
       "                                            Locality  \\\n",
       "0                                   BF International   \n",
       "1                                   BF International   \n",
       "2  Ayala Triangle Gardens, Salcedo Village, Makat...   \n",
       "3  Ayala Triangle Gardens, Salcedo Village, Makat...   \n",
       "4          Century City Mall, Poblacion, Makati City   \n",
       "\n",
       "                                    Locality Verbose   Longitude   Latitude  \\\n",
       "0                   BF International, Las Piñas City  121.009787  14.447615   \n",
       "1                   BF International, Las Piñas City  121.009787  14.447615   \n",
       "2  Ayala Triangle Gardens, Salcedo Village, Makat...  121.024562  14.556042   \n",
       "3  Ayala Triangle Gardens, Salcedo Village, Makat...  121.023171  14.556196   \n",
       "4  Century City Mall, Poblacion, Makati City, Mak...  121.027708  14.565899   \n",
       "\n",
       "                              Cuisines  ...          Currency  \\\n",
       "0                              Italian  ...  Botswana Pula(P)   \n",
       "1                              Italian  ...  Botswana Pula(P)   \n",
       "2                      European, Asian  ...  Botswana Pula(P)   \n",
       "3  Filipino, American, Italian, Bakery  ...  Botswana Pula(P)   \n",
       "4                             American  ...  Botswana Pula(P)   \n",
       "\n",
       "  Has Table booking  Has Online delivery  Is delivering now  \\\n",
       "0                 1                    0                  0   \n",
       "1                 1                    0                  0   \n",
       "2                 0                    0                  0   \n",
       "3                 0                    0                  0   \n",
       "4                 0                    0                  0   \n",
       "\n",
       "   Switch to order menu  Price range  Aggregate rating  Rating color  \\\n",
       "0                     0            3               4.6        3F7E00   \n",
       "1                     0            3               4.6        3F7E00   \n",
       "2                     0            4               4.7        3F7E00   \n",
       "3                     0            3               4.4        5BA829   \n",
       "4                     0            3               4.4        5BA829   \n",
       "\n",
       "  Rating text Votes  \n",
       "0   Excellent   619  \n",
       "1   Excellent   619  \n",
       "2   Excellent   469  \n",
       "3   Very Good   867  \n",
       "4   Very Good   858  \n",
       "\n",
       "[5 rows x 21 columns]"
      ]
     },
     "execution_count": 3,
     "metadata": {},
     "output_type": "execute_result"
    }
   ],
   "source": [
    "df.head(5)"
   ]
  },
  {
   "cell_type": "code",
   "execution_count": 4,
   "metadata": {},
   "outputs": [
    {
     "name": "stdout",
     "output_type": "stream",
     "text": [
      "<class 'pandas.core.frame.DataFrame'>\n",
      "RangeIndex: 7527 entries, 0 to 7526\n",
      "Data columns (total 21 columns):\n",
      " #   Column                Non-Null Count  Dtype  \n",
      "---  ------                --------------  -----  \n",
      " 0   Restaurant ID         7527 non-null   int64  \n",
      " 1   Restaurant Name       7527 non-null   object \n",
      " 2   Country Code          7527 non-null   int64  \n",
      " 3   City                  7527 non-null   object \n",
      " 4   Address               7527 non-null   object \n",
      " 5   Locality              7527 non-null   object \n",
      " 6   Locality Verbose      7527 non-null   object \n",
      " 7   Longitude             7527 non-null   float64\n",
      " 8   Latitude              7527 non-null   float64\n",
      " 9   Cuisines              7512 non-null   object \n",
      " 10  Average Cost for two  7527 non-null   int64  \n",
      " 11  Currency              7527 non-null   object \n",
      " 12  Has Table booking     7527 non-null   int64  \n",
      " 13  Has Online delivery   7527 non-null   int64  \n",
      " 14  Is delivering now     7527 non-null   int64  \n",
      " 15  Switch to order menu  7527 non-null   int64  \n",
      " 16  Price range           7527 non-null   int64  \n",
      " 17  Aggregate rating      7527 non-null   float64\n",
      " 18  Rating color          7527 non-null   object \n",
      " 19  Rating text           7527 non-null   object \n",
      " 20  Votes                 7527 non-null   int64  \n",
      "dtypes: float64(3), int64(9), object(9)\n",
      "memory usage: 1.2+ MB\n"
     ]
    }
   ],
   "source": [
    "df.info()"
   ]
  },
  {
   "cell_type": "code",
   "execution_count": 5,
   "metadata": {},
   "outputs": [],
   "source": [
    "COUNTRIES = {\n",
    "    1: \"India\",\n",
    "    14: \"Australia\",\n",
    "    30: \"Brazil\",\n",
    "    37: \"Canada\",\n",
    "    94: \"Indonesia\",\n",
    "    148: \"New Zeland\",\n",
    "    162: \"Philippines\",\n",
    "    166: \"Qatar\",\n",
    "    184: \"Singapure\",\n",
    "    189: \"South Africa\",\n",
    "    191: \"Sri Lanka\",\n",
    "    208: \"Turkey\",\n",
    "    214: \"United Arab Emirates\",\n",
    "    215: \"England\",\n",
    "    216: \"United States of America\",\n",
    "}\n",
    "def country_name(country_id):\n",
    "    return COUNTRIES[country_id]"
   ]
  },
  {
   "cell_type": "code",
   "execution_count": 6,
   "metadata": {},
   "outputs": [],
   "source": [
    "def create_price_tye(price_range):\n",
    "    if price_range == 1:\n",
    "        return \"cheap\"\n",
    "    elif price_range == 2:\n",
    "        return \"normal\"\n",
    "    elif price_range == 3:\n",
    "        return \"expensive\"\n",
    "    else:\n",
    "        return \"gourmet\""
   ]
  },
  {
   "cell_type": "code",
   "execution_count": 7,
   "metadata": {},
   "outputs": [],
   "source": [
    "COLORS = {\n",
    "    \"3F7E00\": \"darkgreen\",\n",
    "    \"5BA829\": \"green\",\n",
    "    \"9ACD32\": \"lightgreen\",\n",
    "    \"CDD614\": \"orange\",\n",
    "    \"FFBA00\": \"red\",\n",
    "    \"CBCBC8\": \"darkred\",\n",
    "    \"FF7800\": \"darkred\",\n",
    "}\n",
    "def color_name(color_code):\n",
    "    return COLORS[color_code]"
   ]
  },
  {
   "cell_type": "code",
   "execution_count": 8,
   "metadata": {},
   "outputs": [],
   "source": [
    "def rename_columns(dataframe):\n",
    "    df = dataframe.copy()\n",
    "    title = lambda x: inflection.titleize(x)\n",
    "    snakecase = lambda x: inflection.underscore(x)\n",
    "    spaces = lambda x: x.replace(\" \", \"\")\n",
    "    cols_old = list(df.columns)\n",
    "    cols_old = list(map(title, cols_old))\n",
    "    cols_old = list(map(spaces, cols_old))\n",
    "    cols_new = list(map(snakecase, cols_old))\n",
    "    df.columns = cols_new\n",
    "\n",
    "    return df"
   ]
  },
  {
   "cell_type": "code",
   "execution_count": 9,
   "metadata": {},
   "outputs": [],
   "source": [
    "df[\"cuisines\"] = df.loc[:, \"Cuisines\"].apply(lambda x: x.split(\",\")[0] if isinstance(x, str) else \"\")"
   ]
  },
  {
   "cell_type": "code",
   "execution_count": 10,
   "metadata": {},
   "outputs": [
    {
     "data": {
      "text/plain": [
       "array(['Italian', 'European, Asian',\n",
       "       'Filipino, American, Italian, Bakery', ...,\n",
       "       'Fast Food, Izgara, Seafood, Tea, Coffee', 'Home-made, Izgara',\n",
       "       'Restaurant Cafe, Kebab, Turkish Pizza'], dtype=object)"
      ]
     },
     "execution_count": 10,
     "metadata": {},
     "output_type": "execute_result"
    }
   ],
   "source": [
    "df['Cuisines'].unique()"
   ]
  },
  {
   "cell_type": "code",
   "execution_count": 11,
   "metadata": {},
   "outputs": [
    {
     "data": {
      "text/html": [
       "<div>\n",
       "<style scoped>\n",
       "    .dataframe tbody tr th:only-of-type {\n",
       "        vertical-align: middle;\n",
       "    }\n",
       "\n",
       "    .dataframe tbody tr th {\n",
       "        vertical-align: top;\n",
       "    }\n",
       "\n",
       "    .dataframe thead th {\n",
       "        text-align: right;\n",
       "    }\n",
       "</style>\n",
       "<table border=\"1\" class=\"dataframe\">\n",
       "  <thead>\n",
       "    <tr style=\"text-align: right;\">\n",
       "      <th></th>\n",
       "      <th>Restaurant ID</th>\n",
       "      <th>Restaurant Name</th>\n",
       "      <th>Country Code</th>\n",
       "      <th>City</th>\n",
       "      <th>Address</th>\n",
       "      <th>Locality</th>\n",
       "      <th>Locality Verbose</th>\n",
       "      <th>Longitude</th>\n",
       "      <th>Latitude</th>\n",
       "      <th>Cuisines</th>\n",
       "      <th>...</th>\n",
       "      <th>Has Table booking</th>\n",
       "      <th>Has Online delivery</th>\n",
       "      <th>Is delivering now</th>\n",
       "      <th>Switch to order menu</th>\n",
       "      <th>Price range</th>\n",
       "      <th>Aggregate rating</th>\n",
       "      <th>Rating color</th>\n",
       "      <th>Rating text</th>\n",
       "      <th>Votes</th>\n",
       "      <th>cuisines</th>\n",
       "    </tr>\n",
       "  </thead>\n",
       "  <tbody>\n",
       "    <tr>\n",
       "      <th>0</th>\n",
       "      <td>6310675</td>\n",
       "      <td>Mama Lou's Italian Kitchen</td>\n",
       "      <td>162</td>\n",
       "      <td>Las Piñas City</td>\n",
       "      <td>Block 1, Lot 36, Tropical Avenue Corner Tropic...</td>\n",
       "      <td>BF International</td>\n",
       "      <td>BF International, Las Piñas City</td>\n",
       "      <td>121.009787</td>\n",
       "      <td>14.447615</td>\n",
       "      <td>Italian</td>\n",
       "      <td>...</td>\n",
       "      <td>1</td>\n",
       "      <td>0</td>\n",
       "      <td>0</td>\n",
       "      <td>0</td>\n",
       "      <td>3</td>\n",
       "      <td>4.6</td>\n",
       "      <td>3F7E00</td>\n",
       "      <td>Excellent</td>\n",
       "      <td>619</td>\n",
       "      <td>Italian</td>\n",
       "    </tr>\n",
       "    <tr>\n",
       "      <th>1</th>\n",
       "      <td>6310675</td>\n",
       "      <td>Mama Lou's Italian Kitchen</td>\n",
       "      <td>162</td>\n",
       "      <td>Las Piñas City</td>\n",
       "      <td>Block 1, Lot 36, Tropical Avenue Corner Tropic...</td>\n",
       "      <td>BF International</td>\n",
       "      <td>BF International, Las Piñas City</td>\n",
       "      <td>121.009787</td>\n",
       "      <td>14.447615</td>\n",
       "      <td>Italian</td>\n",
       "      <td>...</td>\n",
       "      <td>1</td>\n",
       "      <td>0</td>\n",
       "      <td>0</td>\n",
       "      <td>0</td>\n",
       "      <td>3</td>\n",
       "      <td>4.6</td>\n",
       "      <td>3F7E00</td>\n",
       "      <td>Excellent</td>\n",
       "      <td>619</td>\n",
       "      <td>Italian</td>\n",
       "    </tr>\n",
       "  </tbody>\n",
       "</table>\n",
       "<p>2 rows × 22 columns</p>\n",
       "</div>"
      ],
      "text/plain": [
       "   Restaurant ID             Restaurant Name  Country Code            City  \\\n",
       "0        6310675  Mama Lou's Italian Kitchen           162  Las Piñas City   \n",
       "1        6310675  Mama Lou's Italian Kitchen           162  Las Piñas City   \n",
       "\n",
       "                                             Address          Locality  \\\n",
       "0  Block 1, Lot 36, Tropical Avenue Corner Tropic...  BF International   \n",
       "1  Block 1, Lot 36, Tropical Avenue Corner Tropic...  BF International   \n",
       "\n",
       "                   Locality Verbose   Longitude   Latitude Cuisines  ...  \\\n",
       "0  BF International, Las Piñas City  121.009787  14.447615  Italian  ...   \n",
       "1  BF International, Las Piñas City  121.009787  14.447615  Italian  ...   \n",
       "\n",
       "   Has Table booking Has Online delivery  Is delivering now  \\\n",
       "0                  1                   0                  0   \n",
       "1                  1                   0                  0   \n",
       "\n",
       "   Switch to order menu  Price range  Aggregate rating  Rating color  \\\n",
       "0                     0            3               4.6        3F7E00   \n",
       "1                     0            3               4.6        3F7E00   \n",
       "\n",
       "   Rating text Votes cuisines  \n",
       "0    Excellent   619  Italian  \n",
       "1    Excellent   619  Italian  \n",
       "\n",
       "[2 rows x 22 columns]"
      ]
     },
     "execution_count": 11,
     "metadata": {},
     "output_type": "execute_result"
    }
   ],
   "source": [
    "df.head(2)"
   ]
  },
  {
   "cell_type": "markdown",
   "metadata": {},
   "source": [
    "Cleaning the data"
   ]
  },
  {
   "cell_type": "code",
   "execution_count": 12,
   "metadata": {},
   "outputs": [],
   "source": [
    "\n",
    "unique_value_counts = df.nunique()\n",
    "\n",
    "columns_to_remove = unique_value_counts[unique_value_counts == 1].index\n",
    "\n",
    "df.drop(columns=columns_to_remove, inplace=True)"
   ]
  },
  {
   "cell_type": "markdown",
   "metadata": {},
   "source": [
    "1 - Dos restaurantes que possuem o tipo de culinária italiana, qual o nome do\n",
    "restaurante com a maior média de avaliação?\n"
   ]
  },
  {
   "cell_type": "code",
   "execution_count": 13,
   "metadata": {},
   "outputs": [
    {
     "name": "stdout",
     "output_type": "stream",
     "text": [
      "Restaurant ID                                          16587684\n",
      "Restaurant Name                    Andre's Cucina & Polenta Bar\n",
      "Country Code                                                 14\n",
      "City                                                   Adelaide\n",
      "Address                               94 Frome Street, Adelaide\n",
      "Locality                              Frome Street, City Centre\n",
      "Locality Verbose        Frome Street, City Centre, Adelaide, SA\n",
      "Longitude                                            138.607893\n",
      "Latitude                                             -34.924465\n",
      "Cuisines                                                Italian\n",
      "Average Cost for two                                        100\n",
      "Currency                                              Dollar($)\n",
      "Has Table booking                                             0\n",
      "Has Online delivery                                           0\n",
      "Is delivering now                                             0\n",
      "Price range                                                   4\n",
      "Aggregate rating                                            4.9\n",
      "Rating color                                             3F7E00\n",
      "Rating text                                           Excellent\n",
      "Votes                                                       840\n",
      "cuisines                                                Italian\n",
      "Average Rating                                              4.9\n",
      "Name: 366, dtype: object\n"
     ]
    }
   ],
   "source": [
    "italian_restaurants = df[df['Cuisines'] == 'Italian'].copy()\n",
    "\n",
    "italian_restaurants['Average Rating'] = italian_restaurants.groupby('Restaurant Name')['Aggregate rating'].transform('mean')\n",
    "\n",
    "restaurant_highest_rating = italian_restaurants.loc[italian_restaurants['Average Rating'].idxmax()]\n",
    "\n",
    "print(restaurant_highest_rating)\n"
   ]
  },
  {
   "cell_type": "markdown",
   "metadata": {},
   "source": [
    "2 - Dos restaurantes que possuem o tipo de culinária italiana, qual o nome do\n",
    "restaurante com a menor média de avaliação?"
   ]
  },
  {
   "cell_type": "code",
   "execution_count": 14,
   "metadata": {},
   "outputs": [
    {
     "name": "stdout",
     "output_type": "stream",
     "text": [
      "Restaurant ID                                                    18334183\n",
      "Restaurant Name                                  La Bocca Bar e Trattoria\n",
      "Country Code                                                           30\n",
      "City                                                       Rio de Janeiro\n",
      "Address                 Rua Andre Cavalcanti, 56A, Centro, Rio de Janeiro\n",
      "Locality                                                           Centro\n",
      "Locality Verbose                                   Centro, Rio de Janeiro\n",
      "Longitude                                                      -43.186781\n",
      "Latitude                                                       -22.915356\n",
      "Cuisines                                                          Italian\n",
      "Average Cost for two                                                   80\n",
      "Currency                                               Brazilian Real(R$)\n",
      "Has Table booking                                                       0\n",
      "Has Online delivery                                                     0\n",
      "Is delivering now                                                       0\n",
      "Price range                                                             3\n",
      "Aggregate rating                                                      0.0\n",
      "Rating color                                                       CBCBC8\n",
      "Rating text                                                     Not rated\n",
      "Votes                                                                   1\n",
      "cuisines                                                          Italian\n",
      "Average Rating                                                        0.0\n",
      "Name: 184, dtype: object\n"
     ]
    }
   ],
   "source": [
    "restaurant_lowest_rating = italian_restaurants.loc[italian_restaurants['Average Rating'].idxmin()]\n",
    "print(restaurant_lowest_rating)"
   ]
  },
  {
   "cell_type": "markdown",
   "metadata": {},
   "source": [
    "3 - Dos restaurantes que possuem o tipo de culinária americana, qual o nome do\n",
    "restaurante com a maior média de avaliação?"
   ]
  },
  {
   "cell_type": "code",
   "execution_count": 15,
   "metadata": {},
   "outputs": [
    {
     "name": "stdout",
     "output_type": "stream",
     "text": [
      "Restaurant ID                                    16973578\n",
      "Restaurant Name         Tocabe, An American Indian Eatery\n",
      "Country Code                                          216\n",
      "City                                               Denver\n",
      "Address                       3536 West 44th Avenue 80211\n",
      "Locality                                         Berkeley\n",
      "Locality Verbose                         Berkeley, Denver\n",
      "Longitude                                      -105.03387\n",
      "Latitude                                         39.77664\n",
      "Cuisines                                         American\n",
      "Average Cost for two                                   25\n",
      "Currency                                        Dollar($)\n",
      "Has Table booking                                       0\n",
      "Has Online delivery                                     0\n",
      "Is delivering now                                       0\n",
      "Price range                                             2\n",
      "Aggregate rating                                      4.9\n",
      "Rating color                                       3F7E00\n",
      "Rating text                                     Excellent\n",
      "Votes                                                 202\n",
      "cuisines                                         American\n",
      "Average Rating                                        4.9\n",
      "Name: 939, dtype: object\n"
     ]
    }
   ],
   "source": [
    "american_restaurants = df[df['Cuisines'] == 'American'].copy()\n",
    "\n",
    "american_restaurants['Average Rating'] = american_restaurants.groupby('Restaurant Name')['Aggregate rating'].transform('mean')\n",
    "\n",
    "restaurant_highest_rating = american_restaurants.loc[american_restaurants['Average Rating'].idxmax()]\n",
    "\n",
    "print(restaurant_highest_rating)"
   ]
  },
  {
   "cell_type": "markdown",
   "metadata": {},
   "source": [
    "4. Dos restaurantes que possuem o tipo de culinária americana, qual o nome do\n",
    "restaurante com a menor média de avaliação?"
   ]
  },
  {
   "cell_type": "code",
   "execution_count": 16,
   "metadata": {},
   "outputs": [
    {
     "name": "stdout",
     "output_type": "stream",
     "text": [
      "Restaurant ID                                      18756337\n",
      "Restaurant Name                           Alston Bar & Beef\n",
      "Country Code                                            215\n",
      "City                                             Manchester\n",
      "Address                 Cathedral Street, Manchester M4 3TR\n",
      "Locality                                      Market Street\n",
      "Locality Verbose                  Market Street, Manchester\n",
      "Longitude                                         -2.243234\n",
      "Latitude                                          53.485074\n",
      "Cuisines                                           American\n",
      "Average Cost for two                                      0\n",
      "Currency                                          Pounds(£)\n",
      "Has Table booking                                         0\n",
      "Has Online delivery                                       0\n",
      "Is delivering now                                         0\n",
      "Price range                                               1\n",
      "Aggregate rating                                        0.0\n",
      "Rating color                                         CBCBC8\n",
      "Rating text                                       Not rated\n",
      "Votes                                                     0\n",
      "cuisines                                           American\n",
      "Average Rating                                          0.0\n",
      "Name: 6751, dtype: object\n"
     ]
    }
   ],
   "source": [
    "lowest_restaurant_rating = american_restaurants.loc[american_restaurants['Average Rating'].idxmin()]\n",
    "print(lowest_restaurant_rating)"
   ]
  },
  {
   "cell_type": "markdown",
   "metadata": {},
   "source": [
    "5 - Dos restaurantes que possuem o tipo de culinária árabe, qual o nome do\n",
    "restaurante com a menor média de avaliação?"
   ]
  },
  {
   "cell_type": "code",
   "execution_count": 17,
   "metadata": {},
   "outputs": [
    {
     "name": "stdout",
     "output_type": "stream",
     "text": [
      "Restaurant ID                                                    18535007\n",
      "Restaurant Name                                                  Mandi@36\n",
      "Country Code                                                            1\n",
      "City                                                            Hyderabad\n",
      "Address                 1st Floor, Plot 1125, Road 36, Jubilee Hills, ...\n",
      "Locality                                                    Jubilee Hills\n",
      "Locality Verbose                                 Jubilee Hills, Hyderabad\n",
      "Longitude                                                       78.407921\n",
      "Latitude                                                        17.430713\n",
      "Cuisines                                                          Arabian\n",
      "Average Cost for two                                                  600\n",
      "Currency                                               Indian Rupees(Rs.)\n",
      "Has Table booking                                                       0\n",
      "Has Online delivery                                                     1\n",
      "Is delivering now                                                       0\n",
      "Price range                                                             2\n",
      "Aggregate rating                                                      4.7\n",
      "Rating color                                                       3F7E00\n",
      "Rating text                                                     Excellent\n",
      "Votes                                                                1085\n",
      "cuisines                                                          Arabian\n",
      "Average Rating                                                        4.7\n",
      "Name: 3896, dtype: object\n"
     ]
    }
   ],
   "source": [
    "arabian_restaurant = df[df['Cuisines'] == 'Arabian'].copy()\n",
    "\n",
    "arabian_restaurant['Average Rating'] = arabian_restaurant.groupby('Restaurant Name')['Aggregate rating'].transform('mean')\n",
    "\n",
    "restaurant_highest_rating = arabian_restaurant.loc[arabian_restaurant['Average Rating'].idxmax()]\n",
    "\n",
    "print(restaurant_highest_rating)"
   ]
  },
  {
   "cell_type": "markdown",
   "metadata": {},
   "source": [
    "6. Dos restaurantes que possuem o tipo de culinária árabe, qual o nome do\n",
    "restaurante com a menor média de avaliação?"
   ]
  },
  {
   "cell_type": "code",
   "execution_count": 18,
   "metadata": {},
   "outputs": [
    {
     "name": "stdout",
     "output_type": "stream",
     "text": [
      "Restaurant ID                                                   6706513\n",
      "Restaurant Name                                                   Raful\n",
      "Country Code                                                         30\n",
      "City                                                          São Paulo\n",
      "Address                 Rua Comendador Abdo Schahin, 118, Sé, São Paulo\n",
      "Locality                                                             Sé\n",
      "Locality Verbose                                          Sé, São Paulo\n",
      "Longitude                                                       -46.632\n",
      "Latitude                                                     -23.543167\n",
      "Cuisines                                                        Arabian\n",
      "Average Cost for two                                                120\n",
      "Currency                                             Brazilian Real(R$)\n",
      "Has Table booking                                                     0\n",
      "Has Online delivery                                                   0\n",
      "Is delivering now                                                     0\n",
      "Price range                                                           4\n",
      "Aggregate rating                                                    0.0\n",
      "Rating color                                                     CBCBC8\n",
      "Rating text                                                   Not rated\n",
      "Votes                                                                 3\n",
      "cuisines                                                        Arabian\n",
      "Average Rating                                                      0.0\n",
      "Name: 337, dtype: object\n"
     ]
    }
   ],
   "source": [
    "restaurant_lowest_rating = arabian_restaurant.loc[arabian_restaurant['Average Rating'].idxmin()]\n",
    "\n",
    "print(restaurant_lowest_rating)"
   ]
  },
  {
   "cell_type": "markdown",
   "metadata": {},
   "source": [
    "7. Dos restaurantes que possuem o tipo de culinária japonesa, qual o nome do\n",
    "restaurante com a maior média de avaliação?\n"
   ]
  },
  {
   "cell_type": "code",
   "execution_count": 19,
   "metadata": {},
   "outputs": [
    {
     "name": "stdout",
     "output_type": "stream",
     "text": [
      "Restaurant ID                                                  7300004\n",
      "Restaurant Name                                           Sushi Leblon\n",
      "Country Code                                                        30\n",
      "City                                                    Rio de Janeiro\n",
      "Address                 Rua Dias Ferreira, 256, Leblon, Rio de Janeiro\n",
      "Locality                                                        Leblon\n",
      "Locality Verbose                                Leblon, Rio de Janeiro\n",
      "Longitude                                                      -43.227\n",
      "Latitude                                                    -22.984167\n",
      "Cuisines                                                      Japanese\n",
      "Average Cost for two                                               250\n",
      "Currency                                            Brazilian Real(R$)\n",
      "Has Table booking                                                    0\n",
      "Has Online delivery                                                  0\n",
      "Is delivering now                                                    0\n",
      "Price range                                                          4\n",
      "Aggregate rating                                                   4.9\n",
      "Rating color                                                    3F7E00\n",
      "Rating text                                                  Excellent\n",
      "Votes                                                               33\n",
      "cuisines                                                      Japanese\n",
      "Average Rating                                                     4.9\n",
      "Name: 240, dtype: object\n"
     ]
    }
   ],
   "source": [
    "japanese_restaurants = df[df['Cuisines'] == 'Japanese'].copy()\n",
    "\n",
    "japanese_restaurants['Average Rating'] = japanese_restaurants.groupby('Restaurant Name')['Aggregate rating'].transform('mean')\n",
    "\n",
    "restaurant_highest_rating = japanese_restaurants.loc[japanese_restaurants['Average Rating'].idxmax()]\n",
    "\n",
    "print(restaurant_highest_rating)"
   ]
  },
  {
   "cell_type": "markdown",
   "metadata": {},
   "source": [
    "8. Dos restaurantes que possuem o tipo de culinária japonesa, qual o nome do\n",
    "restaurante com a menor média de avaliação?"
   ]
  },
  {
   "cell_type": "code",
   "execution_count": 20,
   "metadata": {},
   "outputs": [
    {
     "name": "stdout",
     "output_type": "stream",
     "text": [
      "Restaurant ID                                               6600203\n",
      "Restaurant Name                                        Banzai Sushi\n",
      "Country Code                                                     30\n",
      "City                                                       Brasília\n",
      "Address                 CLS 103, Bloco B, Loja 6, Asa Sul, Brasília\n",
      "Locality                                                    Asa Sul\n",
      "Locality Verbose                                  Asa Sul, Brasília\n",
      "Longitude                                                -47.897333\n",
      "Latitude                                                 -15.811667\n",
      "Cuisines                                                   Japanese\n",
      "Average Cost for two                                             90\n",
      "Currency                                         Brazilian Real(R$)\n",
      "Has Table booking                                                 0\n",
      "Has Online delivery                                               0\n",
      "Is delivering now                                                 0\n",
      "Price range                                                       3\n",
      "Aggregate rating                                                0.0\n",
      "Rating color                                                 CBCBC8\n",
      "Rating text                                               Not rated\n",
      "Votes                                                             1\n",
      "cuisines                                                   Japanese\n",
      "Average Rating                                                  0.0\n",
      "Name: 123, dtype: object\n"
     ]
    }
   ],
   "source": [
    "restaurant_lowest_rating = japanese_restaurants.loc[japanese_restaurants['Average Rating'].idxmin()]\n",
    "\n",
    "print(restaurant_lowest_rating)"
   ]
  },
  {
   "cell_type": "markdown",
   "metadata": {},
   "source": [
    "9. Dos restaurantes que possuem o tipo de culinária caseira, qual o nome do\n",
    "restaurante com a maior média de avaliação?"
   ]
  },
  {
   "cell_type": "code",
   "execution_count": 21,
   "metadata": {},
   "outputs": [
    {
     "name": "stdout",
     "output_type": "stream",
     "text": [
      "Restaurant ID                                                     6007184\n",
      "Restaurant Name                                       GurMekan Restaurant\n",
      "Country Code                                                          208\n",
      "City                                                               Ankara\n",
      "Address                 Ehlibeyt Mahallesi, Ceyhun Atuf Kansu Caddesi,...\n",
      "Locality                                                           Balgat\n",
      "Locality Verbose                                           Balgat, Ankara\n",
      "Longitude                                                       32.816211\n",
      "Latitude                                                        39.889738\n",
      "Cuisines                                                        Home-made\n",
      "Average Cost for two                                                   30\n",
      "Currency                                                 Turkish Lira(TL)\n",
      "Has Table booking                                                       0\n",
      "Has Online delivery                                                     0\n",
      "Is delivering now                                                       0\n",
      "Price range                                                             2\n",
      "Aggregate rating                                                      3.7\n",
      "Rating color                                                       9ACD32\n",
      "Rating text                                                          Good\n",
      "Votes                                                                  12\n",
      "cuisines                                                        Home-made\n",
      "Average Rating                                                        3.7\n",
      "Name: 7373, dtype: object\n"
     ]
    }
   ],
   "source": [
    "homemade_restaurant = df[df['Cuisines'] == 'Home-made'].copy()\n",
    "\n",
    "homemade_restaurant['Average Rating'] = homemade_restaurant.groupby('Restaurant Name')['Aggregate rating'].transform('mean')\n",
    "\n",
    "restaurant_highest_rating = homemade_restaurant.loc[homemade_restaurant['Average Rating'].idxmax()]\n",
    "\n",
    "print(restaurant_highest_rating)"
   ]
  },
  {
   "cell_type": "markdown",
   "metadata": {},
   "source": [
    "10. Dos restaurantes que possuem o tipo de culinária caseira, qual o nome do\n",
    "restaurante com a menor média de avaliação?\n"
   ]
  },
  {
   "cell_type": "code",
   "execution_count": 22,
   "metadata": {},
   "outputs": [
    {
     "name": "stdout",
     "output_type": "stream",
     "text": [
      "Restaurant ID                                                     6007184\n",
      "Restaurant Name                                       GurMekan Restaurant\n",
      "Country Code                                                          208\n",
      "City                                                               Ankara\n",
      "Address                 Ehlibeyt Mahallesi, Ceyhun Atuf Kansu Caddesi,...\n",
      "Locality                                                           Balgat\n",
      "Locality Verbose                                           Balgat, Ankara\n",
      "Longitude                                                       32.816211\n",
      "Latitude                                                        39.889738\n",
      "Cuisines                                                        Home-made\n",
      "Average Cost for two                                                   30\n",
      "Currency                                                 Turkish Lira(TL)\n",
      "Has Table booking                                                       0\n",
      "Has Online delivery                                                     0\n",
      "Is delivering now                                                       0\n",
      "Price range                                                             2\n",
      "Aggregate rating                                                      3.7\n",
      "Rating color                                                       9ACD32\n",
      "Rating text                                                          Good\n",
      "Votes                                                                  12\n",
      "cuisines                                                        Home-made\n",
      "Average Rating                                                        3.7\n",
      "Name: 7373, dtype: object\n"
     ]
    }
   ],
   "source": [
    "restaurant_lowest_rating = homemade_restaurant.loc[homemade_restaurant['Average Rating'].idxmin()]\n",
    "\n",
    "print(restaurant_lowest_rating)"
   ]
  },
  {
   "cell_type": "markdown",
   "metadata": {},
   "source": [
    "11. Qual o tipo de culinária que possui o maior valor médio de um prato para duas\n",
    "pessoas?"
   ]
  },
  {
   "cell_type": "code",
   "execution_count": 23,
   "metadata": {},
   "outputs": [
    {
     "name": "stdout",
     "output_type": "stream",
     "text": [
      "Tipo de Culinária com Maior Valor Médio para Dois (2) Pessoas:\n",
      "Modern Australian, Australian\n",
      "Preço Médio para Dois (2) Pessoas:\n",
      "25000017.0\n"
     ]
    }
   ],
   "source": [
    "average_price_for_two = df.groupby('Cuisines')['Average Cost for two'].mean()\n",
    "\n",
    "culinary_type_with_highest_avg_price = average_price_for_two.idxmax()\n",
    "\n",
    "highest_avg_price = average_price_for_two.max()\n",
    "\n",
    "print(\"Tipo de Culinária com Maior Valor Médio para Dois (2) Pessoas:\")\n",
    "print(culinary_type_with_highest_avg_price)\n",
    "print(\"Preço Médio para Dois (2) Pessoas:\")\n",
    "print(highest_avg_price)"
   ]
  },
  {
   "cell_type": "markdown",
   "metadata": {},
   "source": [
    "12. Qual o tipo de culinária que possui a maior nota média?"
   ]
  },
  {
   "cell_type": "code",
   "execution_count": 24,
   "metadata": {},
   "outputs": [
    {
     "name": "stdout",
     "output_type": "stream",
     "text": [
      "Restaurant ID                                                     6300010\n",
      "Restaurant Name                  Spiral - Sofitel Philippine Plaza Manila\n",
      "Country Code                                                          162\n",
      "City                                                           Pasay City\n",
      "Address                 Plaza Level, Sofitel Philippine Plaza Manila, ...\n",
      "Locality                Sofitel Philippine Plaza Manila, CCP Complex, ...\n",
      "Locality Verbose        Sofitel Philippine Plaza Manila, CCP Complex, ...\n",
      "Longitude                                                      120.981666\n",
      "Latitude                                                        14.552857\n",
      "Cuisines                                          European, Asian, Indian\n",
      "Average Cost for two                                                 6000\n",
      "Currency                                                 Botswana Pula(P)\n",
      "Has Table booking                                                       0\n",
      "Has Online delivery                                                     0\n",
      "Is delivering now                                                       0\n",
      "Price range                                                             4\n",
      "Aggregate rating                                                      4.9\n",
      "Rating color                                                       3F7E00\n",
      "Rating text                                                     Excelente\n",
      "Votes                                                                1228\n",
      "cuisines                                                         European\n",
      "Average rating                                                        4.9\n",
      "Name: 34, dtype: object\n"
     ]
    }
   ],
   "source": [
    "highest_rating = df.copy()\n",
    "\n",
    "highest_rating['Average rating'] = highest_rating.groupby('Cuisines')['Aggregate rating'].transform('mean')\n",
    "\n",
    "type_of_cuisines = highest_rating.loc[highest_rating['Average rating'].idxmax()]\n",
    "print(type_of_cuisines)"
   ]
  },
  {
   "cell_type": "markdown",
   "metadata": {},
   "source": [
    "13. Qual o tipo de culinária que possui mais restaurantes que aceitam pedidos\n",
    "online e fazem entregas?\n"
   ]
  },
  {
   "cell_type": "code",
   "execution_count": 25,
   "metadata": {},
   "outputs": [
    {
     "name": "stdout",
     "output_type": "stream",
     "text": [
      "North Indian\n",
      "61\n"
     ]
    }
   ],
   "source": [
    "online_delivery_restaurants = df.copy()\n",
    "online_delivery_restaurants = df[(df['Has Online delivery'] == 1) & (df['Is delivering now'] == 0)]\n",
    "\n",
    "culinary_counts = online_delivery_restaurants['Cuisines'].value_counts()\n",
    "most_common_culinary = culinary_counts.idxmax()\n",
    "\n",
    "print(most_common_culinary)\n",
    "print(culinary_counts.max())"
   ]
  },
  {
   "cell_type": "markdown",
   "metadata": {},
   "source": [
    "# Geral"
   ]
  },
  {
   "cell_type": "markdown",
   "metadata": {},
   "source": [
    "1 - Quantos restaurantes únicos estão registrados?"
   ]
  },
  {
   "cell_type": "code",
   "execution_count": 26,
   "metadata": {},
   "outputs": [
    {
     "name": "stdout",
     "output_type": "stream",
     "text": [
      "5914\n"
     ]
    }
   ],
   "source": [
    "register_restaurants = df['Restaurant Name'].nunique()\n",
    "print(register_restaurants)"
   ]
  },
  {
   "cell_type": "markdown",
   "metadata": {},
   "source": [
    "2 - Quantos países únicos registrados?"
   ]
  },
  {
   "cell_type": "code",
   "execution_count": 27,
   "metadata": {},
   "outputs": [
    {
     "name": "stdout",
     "output_type": "stream",
     "text": [
      "15\n"
     ]
    }
   ],
   "source": [
    "register_country = df['Country Code'].nunique()\n",
    "print(register_country)"
   ]
  },
  {
   "cell_type": "markdown",
   "metadata": {},
   "source": [
    "3 - Quantas cidades únicas estão registradas?"
   ]
  },
  {
   "cell_type": "code",
   "execution_count": 28,
   "metadata": {},
   "outputs": [
    {
     "name": "stdout",
     "output_type": "stream",
     "text": [
      "125\n"
     ]
    }
   ],
   "source": [
    "register_country = df['City'].nunique()\n",
    "print(register_country)"
   ]
  },
  {
   "cell_type": "markdown",
   "metadata": {},
   "source": [
    "4 - Qual o total de avaliações feitas?"
   ]
  },
  {
   "cell_type": "code",
   "execution_count": 29,
   "metadata": {},
   "outputs": [
    {
     "name": "stdout",
     "output_type": "stream",
     "text": [
      "4639654\n"
     ]
    }
   ],
   "source": [
    "total_rating = df['Votes'].sum()\n",
    "print(total_rating)"
   ]
  },
  {
   "cell_type": "markdown",
   "metadata": {},
   "source": [
    "5 - Qual o total de tipos de culinária registrados?"
   ]
  },
  {
   "cell_type": "code",
   "execution_count": 30,
   "metadata": {},
   "outputs": [
    {
     "name": "stdout",
     "output_type": "stream",
     "text": [
      "166\n"
     ]
    }
   ],
   "source": [
    "number_of_cuisines = df['cuisines'].nunique()\n",
    "print(number_of_cuisines)"
   ]
  },
  {
   "cell_type": "markdown",
   "metadata": {},
   "source": [
    "# País"
   ]
  },
  {
   "cell_type": "markdown",
   "metadata": {},
   "source": [
    "1. Qual o nome do país que possui mais cidades registradas?"
   ]
  },
  {
   "cell_type": "code",
   "execution_count": 36,
   "metadata": {},
   "outputs": [
    {
     "name": "stdout",
     "output_type": "stream",
     "text": [
      "1\n"
     ]
    }
   ],
   "source": [
    "country_with_most_cities = df.groupby('Country Code')['City'].nunique().idxmax()\n",
    "print(country_with_most_cities) "
   ]
  },
  {
   "cell_type": "markdown",
   "metadata": {},
   "source": [
    "2. Qual o nome do país que possui mais restaurantes registrados?\n"
   ]
  },
  {
   "cell_type": "code",
   "execution_count": 32,
   "metadata": {},
   "outputs": [
    {
     "name": "stdout",
     "output_type": "stream",
     "text": [
      "O país com mais restaurantes registrados é: North Indian\n"
     ]
    }
   ],
   "source": [
    "pais_com_mais_restaurantes = df['cuisines'].value_counts().idxmax()\n",
    "\n",
    "print(f\"O país com mais restaurantes registrados é: {pais_com_mais_restaurantes}\")"
   ]
  },
  {
   "cell_type": "markdown",
   "metadata": {},
   "source": [
    "3. Qual o nome do país que possui mais restaurantes com o nível de preço igual a 4\n",
    "registrados?"
   ]
  },
  {
   "cell_type": "code",
   "execution_count": 33,
   "metadata": {},
   "outputs": [
    {
     "name": "stdout",
     "output_type": "stream",
     "text": [
      "Downtown\n"
     ]
    }
   ],
   "source": [
    "restaurantes_nivel_4 = df[df['Price range'] == 4]\n",
    "\n",
    "contagem_por_país = restaurantes_nivel_4['Locality'].value_counts()\n",
    "\n",
    "país_com_mais_restaurantes_nivel_4 = contagem_por_país.idxmax()\n",
    "\n",
    "print(país_com_mais_restaurantes_nivel_4)"
   ]
  },
  {
   "cell_type": "markdown",
   "metadata": {},
   "source": [
    "4. Qual o nome do país que possui a maior quantidade de tipos de culinária\n",
    "distintos?"
   ]
  },
  {
   "cell_type": "code",
   "execution_count": 34,
   "metadata": {},
   "outputs": [],
   "source": []
  },
  {
   "cell_type": "code",
   "execution_count": 38,
   "metadata": {},
   "outputs": [
    {
     "name": "stdout",
     "output_type": "stream",
     "text": [
      "O país com mais tipos de culinária distintos é: 1 - India\n"
     ]
    }
   ],
   "source": [
    "country_with_most_cuisines = df.groupby('Country Code')['Cuisines'].nunique().idxmax()\n",
    "\n",
    "# Imprima o nome do país\n",
    "print(f\"O país com mais tipos de culinária distintos é: {country_with_most_cuisines} - {COUNTRIES[country_with_most_cuisines]}\")"
   ]
  },
  {
   "cell_type": "code",
   "execution_count": null,
   "metadata": {},
   "outputs": [],
   "source": []
  }
 ],
 "metadata": {
  "kernelspec": {
   "display_name": "Python 3 (ipykernel)",
   "language": "python",
   "name": "python3"
  },
  "language_info": {
   "codemirror_mode": {
    "name": "ipython",
    "version": 3
   },
   "file_extension": ".py",
   "mimetype": "text/x-python",
   "name": "python",
   "nbconvert_exporter": "python",
   "pygments_lexer": "ipython3",
   "version": "3.9.12"
  }
 },
 "nbformat": 4,
 "nbformat_minor": 2
}
